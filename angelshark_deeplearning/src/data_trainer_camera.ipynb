{
 "cells": [
  {
   "cell_type": "code",
   "execution_count": 1,
   "metadata": {},
   "outputs": [],
   "source": [
    "import pandas as pd\n",
    "import numpy as np\n",
    "import cv2\n",
    "import os"
   ]
  },
  {
   "cell_type": "code",
   "execution_count": 2,
   "metadata": {},
   "outputs": [],
   "source": [
    "home_dir = os.getenv(\"HOME\")\n",
    "raw_data = pd.read_csv(home_dir + '/Desktop/DataPacket/data.csv')"
   ]
  },
  {
   "cell_type": "code",
   "execution_count": 3,
   "metadata": {},
   "outputs": [
    {
     "data": {
      "text/html": [
       "<div>\n",
       "<style scoped>\n",
       "    .dataframe tbody tr th:only-of-type {\n",
       "        vertical-align: middle;\n",
       "    }\n",
       "\n",
       "    .dataframe tbody tr th {\n",
       "        vertical-align: top;\n",
       "    }\n",
       "\n",
       "    .dataframe thead th {\n",
       "        text-align: right;\n",
       "    }\n",
       "</style>\n",
       "<table border=\"1\" class=\"dataframe\">\n",
       "  <thead>\n",
       "    <tr style=\"text-align: right;\">\n",
       "      <th></th>\n",
       "      <th>laser0</th>\n",
       "      <th>laser1</th>\n",
       "      <th>laser2</th>\n",
       "      <th>laser3</th>\n",
       "      <th>laser4</th>\n",
       "      <th>laser5</th>\n",
       "      <th>laser6</th>\n",
       "      <th>laser7</th>\n",
       "      <th>laser8</th>\n",
       "      <th>laser9</th>\n",
       "      <th>...</th>\n",
       "      <th>laser352</th>\n",
       "      <th>laser353</th>\n",
       "      <th>laser354</th>\n",
       "      <th>laser355</th>\n",
       "      <th>laser356</th>\n",
       "      <th>laser357</th>\n",
       "      <th>laser358</th>\n",
       "      <th>laser359</th>\n",
       "      <th>speed</th>\n",
       "      <th>steering_angle</th>\n",
       "    </tr>\n",
       "  </thead>\n",
       "  <tbody>\n",
       "    <tr>\n",
       "      <th>0</th>\n",
       "      <td>0.228333</td>\n",
       "      <td>0.227496</td>\n",
       "      <td>0.234184</td>\n",
       "      <td>0.253645</td>\n",
       "      <td>0.238905</td>\n",
       "      <td>0.224904</td>\n",
       "      <td>0.219742</td>\n",
       "      <td>0.225911</td>\n",
       "      <td>0.236172</td>\n",
       "      <td>0.221523</td>\n",
       "      <td>...</td>\n",
       "      <td>0.224054</td>\n",
       "      <td>0.248701</td>\n",
       "      <td>0.230076</td>\n",
       "      <td>0.243954</td>\n",
       "      <td>0.245454</td>\n",
       "      <td>0.225626</td>\n",
       "      <td>0.246615</td>\n",
       "      <td>0.244948</td>\n",
       "      <td>0.244948</td>\n",
       "      <td>0.585937</td>\n",
       "    </tr>\n",
       "    <tr>\n",
       "      <th>1</th>\n",
       "      <td>0.228333</td>\n",
       "      <td>0.227496</td>\n",
       "      <td>0.234184</td>\n",
       "      <td>0.253645</td>\n",
       "      <td>0.238905</td>\n",
       "      <td>0.224904</td>\n",
       "      <td>0.219742</td>\n",
       "      <td>0.225911</td>\n",
       "      <td>0.236172</td>\n",
       "      <td>0.221523</td>\n",
       "      <td>...</td>\n",
       "      <td>0.224054</td>\n",
       "      <td>0.248701</td>\n",
       "      <td>0.230076</td>\n",
       "      <td>0.243954</td>\n",
       "      <td>0.245454</td>\n",
       "      <td>0.225626</td>\n",
       "      <td>0.246615</td>\n",
       "      <td>0.244948</td>\n",
       "      <td>0.244948</td>\n",
       "      <td>0.585937</td>\n",
       "    </tr>\n",
       "    <tr>\n",
       "      <th>2</th>\n",
       "      <td>0.231983</td>\n",
       "      <td>0.244641</td>\n",
       "      <td>0.244981</td>\n",
       "      <td>0.224927</td>\n",
       "      <td>0.235483</td>\n",
       "      <td>0.222170</td>\n",
       "      <td>0.225249</td>\n",
       "      <td>0.235063</td>\n",
       "      <td>0.217606</td>\n",
       "      <td>0.233925</td>\n",
       "      <td>...</td>\n",
       "      <td>0.233786</td>\n",
       "      <td>0.242592</td>\n",
       "      <td>0.240255</td>\n",
       "      <td>0.225518</td>\n",
       "      <td>0.239098</td>\n",
       "      <td>0.246102</td>\n",
       "      <td>0.236991</td>\n",
       "      <td>0.250182</td>\n",
       "      <td>0.250182</td>\n",
       "      <td>0.600930</td>\n",
       "    </tr>\n",
       "    <tr>\n",
       "      <th>3</th>\n",
       "      <td>0.237585</td>\n",
       "      <td>0.226259</td>\n",
       "      <td>0.225327</td>\n",
       "      <td>0.241955</td>\n",
       "      <td>0.234837</td>\n",
       "      <td>0.225581</td>\n",
       "      <td>0.239836</td>\n",
       "      <td>0.223831</td>\n",
       "      <td>0.220821</td>\n",
       "      <td>0.220462</td>\n",
       "      <td>...</td>\n",
       "      <td>0.239585</td>\n",
       "      <td>0.228006</td>\n",
       "      <td>0.226670</td>\n",
       "      <td>0.248297</td>\n",
       "      <td>0.234633</td>\n",
       "      <td>0.228943</td>\n",
       "      <td>0.237144</td>\n",
       "      <td>0.233428</td>\n",
       "      <td>0.233428</td>\n",
       "      <td>0.600727</td>\n",
       "    </tr>\n",
       "    <tr>\n",
       "      <th>4</th>\n",
       "      <td>0.222417</td>\n",
       "      <td>0.230397</td>\n",
       "      <td>0.242593</td>\n",
       "      <td>0.251118</td>\n",
       "      <td>0.238735</td>\n",
       "      <td>0.237531</td>\n",
       "      <td>0.239533</td>\n",
       "      <td>0.239257</td>\n",
       "      <td>0.240184</td>\n",
       "      <td>0.254118</td>\n",
       "      <td>...</td>\n",
       "      <td>0.244356</td>\n",
       "      <td>0.262002</td>\n",
       "      <td>0.238537</td>\n",
       "      <td>0.229623</td>\n",
       "      <td>0.220751</td>\n",
       "      <td>0.249123</td>\n",
       "      <td>0.232163</td>\n",
       "      <td>0.234454</td>\n",
       "      <td>0.234454</td>\n",
       "      <td>0.591369</td>\n",
       "    </tr>\n",
       "  </tbody>\n",
       "</table>\n",
       "<p>5 rows × 362 columns</p>\n",
       "</div>"
      ],
      "text/plain": [
       "     laser0    laser1    laser2    laser3    laser4    laser5    laser6  \\\n",
       "0  0.228333  0.227496  0.234184  0.253645  0.238905  0.224904  0.219742   \n",
       "1  0.228333  0.227496  0.234184  0.253645  0.238905  0.224904  0.219742   \n",
       "2  0.231983  0.244641  0.244981  0.224927  0.235483  0.222170  0.225249   \n",
       "3  0.237585  0.226259  0.225327  0.241955  0.234837  0.225581  0.239836   \n",
       "4  0.222417  0.230397  0.242593  0.251118  0.238735  0.237531  0.239533   \n",
       "\n",
       "     laser7    laser8    laser9  ...  laser352  laser353  laser354  laser355  \\\n",
       "0  0.225911  0.236172  0.221523  ...  0.224054  0.248701  0.230076  0.243954   \n",
       "1  0.225911  0.236172  0.221523  ...  0.224054  0.248701  0.230076  0.243954   \n",
       "2  0.235063  0.217606  0.233925  ...  0.233786  0.242592  0.240255  0.225518   \n",
       "3  0.223831  0.220821  0.220462  ...  0.239585  0.228006  0.226670  0.248297   \n",
       "4  0.239257  0.240184  0.254118  ...  0.244356  0.262002  0.238537  0.229623   \n",
       "\n",
       "   laser356  laser357  laser358  laser359     speed  steering_angle  \n",
       "0  0.245454  0.225626  0.246615  0.244948  0.244948        0.585937  \n",
       "1  0.245454  0.225626  0.246615  0.244948  0.244948        0.585937  \n",
       "2  0.239098  0.246102  0.236991  0.250182  0.250182        0.600930  \n",
       "3  0.234633  0.228943  0.237144  0.233428  0.233428        0.600727  \n",
       "4  0.220751  0.249123  0.232163  0.234454  0.234454        0.591369  \n",
       "\n",
       "[5 rows x 362 columns]"
      ]
     },
     "execution_count": 3,
     "metadata": {},
     "output_type": "execute_result"
    }
   ],
   "source": [
    "raw_data.head()"
   ]
  },
  {
   "cell_type": "code",
   "execution_count": 4,
   "metadata": {
    "scrolled": true
   },
   "outputs": [
    {
     "data": {
      "text/plain": [
       "array([[0.58593744, 0.24494842],\n",
       "       [0.58593744, 0.24494842],\n",
       "       [0.60093027, 0.2501817 ],\n",
       "       [0.6007266 , 0.23342802],\n",
       "       [0.59136927, 0.23445369]])"
      ]
     },
     "execution_count": 4,
     "metadata": {},
     "output_type": "execute_result"
    }
   ],
   "source": [
    "speed = raw_data[\"speed\"].values\n",
    "steering_angle = raw_data[\"steering_angle\"].values\n",
    "\n",
    "output = np.dstack((steering_angle, speed))[0]\n",
    "\n",
    "output[:5]"
   ]
  },
  {
   "cell_type": "code",
   "execution_count": 5,
   "metadata": {},
   "outputs": [],
   "source": [
    "h = 240\n",
    "w = 320\n",
    "c = 1\n",
    "img_num = len(raw_data) + 1  # Because csv lenght start with 0\n",
    "\n",
    "img_input = []\n",
    "\n",
    "for i in range(1, img_num):\n",
    "    img = cv2.imread(home_dir + \"/Desktop/DataPacket/Images/\"+str(i)+\".jpg\", 0)\n",
    "    img = cv2.resize(img, (w, h))\n",
    "    \n",
    "    img_input.append(img)"
   ]
  },
  {
   "cell_type": "code",
   "execution_count": 6,
   "metadata": {},
   "outputs": [],
   "source": [
    "img_input = np.asarray(img_input).astype(np.float32) / 255.0"
   ]
  },
  {
   "cell_type": "code",
   "execution_count": 7,
   "metadata": {},
   "outputs": [],
   "source": [
    "from sklearn.model_selection import train_test_split\n",
    "\n",
    "X_train, X_validation, y_train, y_validation = train_test_split(img_input, output, test_size=0.2, random_state=22)\n",
    "\n",
    "del img_input\n",
    "del steering_angle\n",
    "del output\n",
    "del speed"
   ]
  },
  {
   "cell_type": "code",
   "execution_count": 8,
   "metadata": {},
   "outputs": [
    {
     "name": "stderr",
     "output_type": "stream",
     "text": [
      "Using TensorFlow backend.\n"
     ]
    }
   ],
   "source": [
    "from keras.models import Sequential\n",
    "from keras.layers import Dense, Conv2D, Flatten, MaxPool2D, Dropout\n",
    "from keras.layers import Conv2D, MaxPooling2D, Cropping2D, Lambda\n",
    "from keras.callbacks import ModelCheckpoint\n",
    "from keras.optimizers import SGD, Adam\n",
    "from keras.models import Sequential\n",
    "from keras.layers.core import Activation"
   ]
  },
  {
   "cell_type": "code",
   "execution_count": 9,
   "metadata": {},
   "outputs": [
    {
     "data": {
      "text/plain": [
       "(32, 240, 320, 1)"
      ]
     },
     "execution_count": 9,
     "metadata": {},
     "output_type": "execute_result"
    }
   ],
   "source": [
    "if len(X_train.shape) < 4:  # We do this because when image is grey cv2 not add channel num to shape but keras want to see 1 as channel\n",
    "    X_train.resize(X_train.shape[0], X_train.shape[1], X_train.shape[2], 1)\n",
    "    X_validation.resize(X_validation.shape[0], X_validation.shape[1], X_validation.shape[2], 1)\n",
    "    \n",
    "X_train.shape"
   ]
  },
  {
   "cell_type": "code",
   "execution_count": 10,
   "metadata": {},
   "outputs": [],
   "source": [
    "from keras.preprocessing.image import ImageDataGenerator\n",
    "\n",
    "dataGenerator = ImageDataGenerator(\n",
    "        featurewise_center=False,\n",
    "        samplewise_center=False,\n",
    "        featurewise_std_normalization=False,\n",
    "        samplewise_std_normalization=False,\n",
    "        zca_whitening=False,\n",
    "        rotation_range=5,\n",
    "        zoom_range = 0.1, \n",
    "        width_shift_range=0.1,\n",
    "        height_shift_range=0.1, \n",
    "        horizontal_flip=False,\n",
    "        vertical_flip=False)\n",
    "dataGenerator.fit(X_train)"
   ]
  },
  {
   "cell_type": "code",
   "execution_count": 11,
   "metadata": {},
   "outputs": [
    {
     "name": "stdout",
     "output_type": "stream",
     "text": [
      "WARNING:tensorflow:From /home/ubunturos/.local/lib/python3.6/site-packages/tensorflow/python/framework/op_def_library.py:263: colocate_with (from tensorflow.python.framework.ops) is deprecated and will be removed in a future version.\n",
      "Instructions for updating:\n",
      "Colocations handled automatically by placer.\n"
     ]
    }
   ],
   "source": [
    "model = Sequential()\n",
    "\n",
    "model.add(Conv2D(filters = 2, kernel_size = (3,3),padding = 'same',activation ='relu', input_shape = (h, w, c)))\n",
    "model.add(Conv2D(filters = 4, kernel_size = (3,3),padding = 'same',activation ='relu'))\n",
    "model.add(Conv2D(filters = 8, kernel_size = (5,5),padding = 'same',activation ='relu'))\n",
    "model.add(MaxPool2D(pool_size=(2,2)))\n",
    "model.add(Conv2D(filters = 16, kernel_size = (5,5),padding = 'same',activation ='relu'))\n",
    "model.add(MaxPool2D(pool_size=(2,2)))\n",
    "model.add(Conv2D(filters = 24, kernel_size = (7,7),padding = 'same',activation ='relu'))\n",
    "\n",
    "model.add(Flatten())\n",
    "\n",
    "'''model.add(Dense(50, activation='relu'))\n",
    "model.add(Dense(28, activation='relu'))\n",
    "model.add(Dense(10, activation='relu'))'''\n",
    "\n",
    "model.add(Dense(2, activation = \"softmax\"))\n",
    "\n",
    "model.compile(loss='mse', optimizer='sgd', metrics=['accuracy'])\n"
   ]
  },
  {
   "cell_type": "code",
   "execution_count": 12,
   "metadata": {},
   "outputs": [
    {
     "name": "stdout",
     "output_type": "stream",
     "text": [
      "WARNING:tensorflow:From /home/ubunturos/.local/lib/python3.6/site-packages/tensorflow/python/ops/math_ops.py:3066: to_int32 (from tensorflow.python.ops.math_ops) is deprecated and will be removed in a future version.\n",
      "Instructions for updating:\n",
      "Use tf.cast instead.\n",
      "Train on 32 samples, validate on 8 samples\n",
      "Epoch 1/3\n",
      "32/32 [==============================] - 5s 166ms/step - loss: 0.0416 - acc: 0.0000e+00 - val_loss: 0.0242 - val_acc: 1.0000\n",
      "Epoch 2/3\n",
      "32/32 [==============================] - 5s 141ms/step - loss: 0.0242 - acc: 1.0000 - val_loss: 0.0139 - val_acc: 1.0000\n",
      "Epoch 3/3\n",
      "32/32 [==============================] - 4s 139ms/step - loss: 0.0140 - acc: 1.0000 - val_loss: 0.0095 - val_acc: 1.0000\n"
     ]
    }
   ],
   "source": [
    "hs = model.fit(X_train, y_train, validation_data=(X_validation, y_validation), batch_size=64, epochs=3)\n",
    "\n",
    "#hs = model.fit_generator(dataGenerator.flow(X_train, y_train, batch_size=64), epochs=3, validation_data=[X_validation, y_validation], steps_per_epoch=X_train.shape[0] // 64)"
   ]
  },
  {
   "cell_type": "code",
   "execution_count": 13,
   "metadata": {},
   "outputs": [
    {
     "data": {
      "text/html": [
       "        <script type=\"text/javascript\">\n",
       "        window.PlotlyConfig = {MathJaxConfig: 'local'};\n",
       "        if (window.MathJax) {MathJax.Hub.Config({SVG: {font: \"STIX-Web\"}});}\n",
       "        if (typeof require !== 'undefined') {\n",
       "        require.undef(\"plotly\");\n",
       "        requirejs.config({\n",
       "            paths: {\n",
       "                'plotly': ['https://cdn.plot.ly/plotly-latest.min']\n",
       "            }\n",
       "        });\n",
       "        require(['plotly'], function(Plotly) {\n",
       "            window._Plotly = Plotly;\n",
       "        });\n",
       "        }\n",
       "        </script>\n",
       "        "
      ]
     },
     "metadata": {},
     "output_type": "display_data"
    },
    {
     "data": {
      "application/vnd.plotly.v1+json": {
       "config": {
        "linkText": "Export to plot.ly",
        "plotlyServerURL": "https://plot.ly",
        "showLink": false
       },
       "data": [
        {
         "line": {
          "color": "aquamarine"
         },
         "mode": "lines",
         "name": "loss",
         "type": "scatter",
         "uid": "d098e0fc-95f7-445d-9927-f0743f2c61d7",
         "x": [
          0,
          1,
          2
         ],
         "y": [
          0.041624005883932114,
          0.024246927350759506,
          0.0139781404286623
         ]
        },
        {
         "line": {
          "color": "darkred",
          "dash": "dash"
         },
         "mode": "lines",
         "name": "val_loss",
         "type": "scatter",
         "uid": "ac5b2411-2390-4b94-9101-d5fd8924f8f2",
         "x": [
          0,
          1,
          2
         ],
         "y": [
          0.024150917306542397,
          0.013900861144065857,
          0.009454697370529175
         ]
        },
        {
         "line": {
          "color": "violet"
         },
         "mode": "lines",
         "name": "acc",
         "type": "scatter",
         "uid": "8e510dd8-23d9-4f08-ab96-448f51ff83af",
         "x": [
          0,
          1,
          2
         ],
         "y": [
          0,
          1,
          1
         ]
        },
        {
         "line": {
          "color": "aqua",
          "dash": "dash"
         },
         "mode": "lines",
         "name": "val_acc",
         "type": "scatter",
         "uid": "a8d00aa8-cdf6-4881-94db-eb68acc01196",
         "x": [
          0,
          1,
          2
         ],
         "y": [
          1,
          1,
          1
         ]
        }
       ],
       "layout": {
        "title": {
         "text": "Trained Model1 training and validation values"
        },
        "updatemenus": [
         {
          "active": -1,
          "buttons": [
           {
            "args": [
             {
              "visible": [
               false,
               false,
               true,
               true
              ]
             },
             {
              "title": "Trained Model1 training and validation accuracy"
             }
            ],
            "label": "Acc Graph",
            "method": "update"
           },
           {
            "args": [
             {
              "visible": [
               true,
               true,
               false,
               false
              ]
             },
             {
              "title": "Trained Model1 training and validation loss"
             }
            ],
            "label": "Loss Graph",
            "method": "update"
           },
           {
            "args": [
             {
              "visible": [
               true,
               true,
               true,
               true
              ]
             },
             {
              "title": "Trained Model1 training and validation values"
             }
            ],
            "label": "Both",
            "method": "update"
           }
          ],
          "type": "buttons"
         }
        ],
        "xaxis": {
         "title": {
          "text": "Epochs"
         }
        }
       }
      },
      "text/html": [
       "<div>\n",
       "        \n",
       "        \n",
       "            <div id=\"26ec7db7-33e4-418e-9266-c40b864fb7ba\" class=\"plotly-graph-div\" style=\"height:525px; width:100%;\"></div>\n",
       "            <script type=\"text/javascript\">\n",
       "                require([\"plotly\"], function(Plotly) {\n",
       "                    window.PLOTLYENV=window.PLOTLYENV || {};\n",
       "                    window.PLOTLYENV.BASE_URL='https://plot.ly';\n",
       "                    \n",
       "                if (document.getElementById(\"26ec7db7-33e4-418e-9266-c40b864fb7ba\")) {\n",
       "                    Plotly.newPlot(\n",
       "                        '26ec7db7-33e4-418e-9266-c40b864fb7ba',\n",
       "                        [{\"line\": {\"color\": \"aquamarine\"}, \"mode\": \"lines\", \"name\": \"loss\", \"type\": \"scatter\", \"uid\": \"d098e0fc-95f7-445d-9927-f0743f2c61d7\", \"x\": [0, 1, 2], \"y\": [0.041624005883932114, 0.024246927350759506, 0.0139781404286623]}, {\"line\": {\"color\": \"darkred\", \"dash\": \"dash\"}, \"mode\": \"lines\", \"name\": \"val_loss\", \"type\": \"scatter\", \"uid\": \"ac5b2411-2390-4b94-9101-d5fd8924f8f2\", \"x\": [0, 1, 2], \"y\": [0.024150917306542397, 0.013900861144065857, 0.009454697370529175]}, {\"line\": {\"color\": \"violet\"}, \"mode\": \"lines\", \"name\": \"acc\", \"type\": \"scatter\", \"uid\": \"8e510dd8-23d9-4f08-ab96-448f51ff83af\", \"x\": [0, 1, 2], \"y\": [0.0, 1.0, 1.0]}, {\"line\": {\"color\": \"aqua\", \"dash\": \"dash\"}, \"mode\": \"lines\", \"name\": \"val_acc\", \"type\": \"scatter\", \"uid\": \"a8d00aa8-cdf6-4881-94db-eb68acc01196\", \"x\": [0, 1, 2], \"y\": [1.0, 1.0, 1.0]}],\n",
       "                        {\"title\": {\"text\": \"Trained Model1 training and validation values\"}, \"updatemenus\": [{\"active\": -1, \"buttons\": [{\"args\": [{\"visible\": [false, false, true, true]}, {\"title\": \"Trained Model1 training and validation accuracy\"}], \"label\": \"Acc Graph\", \"method\": \"update\"}, {\"args\": [{\"visible\": [true, true, false, false]}, {\"title\": \"Trained Model1 training and validation loss\"}], \"label\": \"Loss Graph\", \"method\": \"update\"}, {\"args\": [{\"visible\": [true, true, true, true]}, {\"title\": \"Trained Model1 training and validation values\"}], \"label\": \"Both\", \"method\": \"update\"}], \"type\": \"buttons\"}], \"xaxis\": {\"title\": {\"text\": \"Epochs\"}}},\n",
       "                        {\"showLink\": false, \"linkText\": \"Export to plot.ly\", \"plotlyServerURL\": \"https://plot.ly\", \"responsive\": true}\n",
       "                    ).then(function(){\n",
       "                            \n",
       "var gd = document.getElementById('26ec7db7-33e4-418e-9266-c40b864fb7ba');\n",
       "var x = new MutationObserver(function (mutations, observer) {{\n",
       "        var display = window.getComputedStyle(gd).display;\n",
       "        if (!display || display === 'none') {{\n",
       "            console.log([gd, 'removed!']);\n",
       "            Plotly.purge(gd);\n",
       "            observer.disconnect();\n",
       "        }}\n",
       "}});\n",
       "\n",
       "// Listen for the removal of the full notebook cells\n",
       "var notebookContainer = gd.closest('#notebook-container');\n",
       "if (notebookContainer) {{\n",
       "    x.observe(notebookContainer, {childList: true});\n",
       "}}\n",
       "\n",
       "// Listen for the clearing of the current output cell\n",
       "var outputEl = gd.closest('.output');\n",
       "if (outputEl) {{\n",
       "    x.observe(outputEl, {childList: true});\n",
       "}}\n",
       "\n",
       "                        })\n",
       "                };\n",
       "                });\n",
       "            </script>\n",
       "        </div>"
      ]
     },
     "metadata": {},
     "output_type": "display_data"
    }
   ],
   "source": [
    "import plotly\n",
    "from plotly.offline import iplot\n",
    "plotly.offline.init_notebook_mode(connected=True)\n",
    "import plotly.graph_objs as go\n",
    "\n",
    "def trainingResultsGraph(model, modelCode):\n",
    "    trace0 = go.Scatter(\n",
    "        x = model.epoch,\n",
    "        y = model.history['loss'],\n",
    "        mode = 'lines',\n",
    "        name = 'loss',\n",
    "        line=dict(color='aquamarine')\n",
    "    )\n",
    "\n",
    "    trace1 = go.Scatter(\n",
    "        x = model.epoch,\n",
    "        y = model.history['val_loss'],\n",
    "        mode = 'lines',\n",
    "        name = 'val_loss',\n",
    "        line=dict(color='darkred', dash='dash')\n",
    "    )\n",
    "\n",
    "    trace2 = go.Scatter(\n",
    "        x = model.epoch,\n",
    "        y = model.history['acc'],\n",
    "        mode = 'lines',\n",
    "        name = 'acc',\n",
    "        line=dict(color='violet')\n",
    "    )\n",
    "\n",
    "    trace3 = go.Scatter(\n",
    "        x = model.epoch,\n",
    "        y = model.history['val_acc'],\n",
    "        mode = 'lines',\n",
    "        name = 'val_acc',\n",
    "        line=dict(color='aqua', dash='dash')\n",
    "    )\n",
    "\n",
    "    updatemenus = list([\n",
    "        dict(type=\"buttons\",\n",
    "             active=-1,\n",
    "             buttons=list([\n",
    "                dict(label = 'Acc Graph',\n",
    "                     method = 'update',\n",
    "                     args = [{'visible': [False, False, True, True]},\n",
    "                             {'title': 'Trained Model'+modelCode+' training and validation accuracy'}]),\n",
    "                dict(label = 'Loss Graph',\n",
    "                     method = 'update',\n",
    "                     args = [{'visible': [True, True, False, False]},\n",
    "                             {'title': 'Trained Model'+modelCode+' training and validation loss'}]),\n",
    "                dict(label = 'Both',\n",
    "                     method = 'update',\n",
    "                     args = [{'visible': [True, True, True, True]},\n",
    "                             {'title': 'Trained Model'+modelCode+' training and validation values'}])\n",
    "            ]),\n",
    "        )\n",
    "    ])\n",
    "\n",
    "    data = [trace0, trace1, trace2, trace3]\n",
    "    layout = dict(title='Trained Model'+modelCode+' training and validation values',\n",
    "                  xaxis = dict(title = 'Epochs'),\n",
    "                  updatemenus=updatemenus)\n",
    "\n",
    "    fig = dict(data=data, layout=layout)\n",
    "\n",
    "    iplot(fig, filename='lossGraph')\n",
    "    \n",
    "trainingResultsGraph(hs, \"1\")"
   ]
  },
  {
   "cell_type": "code",
   "execution_count": null,
   "metadata": {},
   "outputs": [],
   "source": [
    "try:\n",
    "    __import__(\"rospkg\")\n",
    "    __import__(\"rospy\")\n",
    "\n",
    "    rospack = rospkg.RosPack()\n",
    "    package_path = rospack.get_path('angelshark_deeplearning')\n",
    "    \n",
    "except ImportError:\n",
    "    package_path = home_dir + \"/Desktop\"\n",
    "    \n",
    "    import os\n",
    "    if not os.path.exists(package_path + \"/model\"):\n",
    "        os.makedirs(package_path + \"/model\")\n",
    "    \n",
    "    print(\"Model saved to Desktop/model dir!!!\")\n",
    "    print(\"Please move them to deeplearning package model directory to angelshark_deeplearning/model\")"
   ]
  },
  {
   "cell_type": "code",
   "execution_count": null,
   "metadata": {},
   "outputs": [],
   "source": [
    "import json\n",
    "import matplotlib.pylab as plt\n",
    "import random\n",
    "from keras.callbacks import ModelCheckpoint\n",
    "\n",
    "model_checkpoint = ModelCheckpoint('weights.h5', monitor='val_loss', save_best_only=True)\n",
    "\n",
    "# Save model weights and json.\n",
    "model.save_weights(package_path + '/model/model.h5')\n",
    "model_json = model.to_json()\n",
    "with open(package_path + '/model/model.json', 'w') as outfile:\n",
    "    json.dump(model_json, outfile)\n",
    "\n",
    "# Train and validation loss chart\n",
    "print(hs.history.keys())\n",
    "\n",
    "plt.plot(hs.history['loss'])\n",
    "plt.plot(hs.history['val_loss'])\n",
    "plt.title('model mean squared error loss')\n",
    "plt.ylabel('mean squared error loss')\n",
    "plt.xlabel('epoch')\n",
    "plt.legend(['training set', 'validation set'], loc='upper right')\n",
    "plt.show()\n"
   ]
  },
  {
   "cell_type": "code",
   "execution_count": null,
   "metadata": {},
   "outputs": [],
   "source": []
  },
  {
   "cell_type": "code",
   "execution_count": null,
   "metadata": {},
   "outputs": [],
   "source": []
  }
 ],
 "metadata": {
  "kernelspec": {
   "display_name": "Python 3",
   "language": "python",
   "name": "python3"
  },
  "language_info": {
   "codemirror_mode": {
    "name": "ipython",
    "version": 3
   },
   "file_extension": ".py",
   "mimetype": "text/x-python",
   "name": "python",
   "nbconvert_exporter": "python",
   "pygments_lexer": "ipython3",
   "version": "3.6.7"
  }
 },
 "nbformat": 4,
 "nbformat_minor": 2
}
