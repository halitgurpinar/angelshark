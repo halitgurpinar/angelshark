{
 "cells": [
  {
   "cell_type": "code",
   "execution_count": 1,
   "metadata": {},
   "outputs": [],
   "source": [
    "import pandas as pd\n",
    "import numpy as np\n",
    "import cv2\n",
    "import os"
   ]
  },
  {
   "cell_type": "code",
   "execution_count": 2,
   "metadata": {},
   "outputs": [],
   "source": [
    "home_dir = os.getenv(\"HOME\")\n",
    "raw_data = pd.read_csv(home_dir + '/Desktop/DataPacket/data.csv')"
   ]
  },
  {
   "cell_type": "code",
   "execution_count": 3,
   "metadata": {},
   "outputs": [
    {
     "data": {
      "text/html": [
       "<div>\n",
       "<style scoped>\n",
       "    .dataframe tbody tr th:only-of-type {\n",
       "        vertical-align: middle;\n",
       "    }\n",
       "\n",
       "    .dataframe tbody tr th {\n",
       "        vertical-align: top;\n",
       "    }\n",
       "\n",
       "    .dataframe thead th {\n",
       "        text-align: right;\n",
       "    }\n",
       "</style>\n",
       "<table border=\"1\" class=\"dataframe\">\n",
       "  <thead>\n",
       "    <tr style=\"text-align: right;\">\n",
       "      <th></th>\n",
       "      <th>laser0</th>\n",
       "      <th>laser1</th>\n",
       "      <th>laser2</th>\n",
       "      <th>laser3</th>\n",
       "      <th>laser4</th>\n",
       "      <th>laser5</th>\n",
       "      <th>laser6</th>\n",
       "      <th>laser7</th>\n",
       "      <th>laser8</th>\n",
       "      <th>laser9</th>\n",
       "      <th>...</th>\n",
       "      <th>laser352</th>\n",
       "      <th>laser353</th>\n",
       "      <th>laser354</th>\n",
       "      <th>laser355</th>\n",
       "      <th>laser356</th>\n",
       "      <th>laser357</th>\n",
       "      <th>laser358</th>\n",
       "      <th>laser359</th>\n",
       "      <th>speed</th>\n",
       "      <th>steering_angle</th>\n",
       "    </tr>\n",
       "  </thead>\n",
       "  <tbody>\n",
       "    <tr>\n",
       "      <th>0</th>\n",
       "      <td>0.227497</td>\n",
       "      <td>0.241333</td>\n",
       "      <td>0.221897</td>\n",
       "      <td>0.244679</td>\n",
       "      <td>0.220947</td>\n",
       "      <td>0.246013</td>\n",
       "      <td>0.231171</td>\n",
       "      <td>0.230307</td>\n",
       "      <td>0.242182</td>\n",
       "      <td>0.231787</td>\n",
       "      <td>...</td>\n",
       "      <td>0.226018</td>\n",
       "      <td>0.208932</td>\n",
       "      <td>0.252255</td>\n",
       "      <td>0.213605</td>\n",
       "      <td>0.241162</td>\n",
       "      <td>0.232063</td>\n",
       "      <td>0.240651</td>\n",
       "      <td>0.218328</td>\n",
       "      <td>NaN</td>\n",
       "      <td>NaN</td>\n",
       "    </tr>\n",
       "    <tr>\n",
       "      <th>1</th>\n",
       "      <td>0.227497</td>\n",
       "      <td>0.241333</td>\n",
       "      <td>0.221897</td>\n",
       "      <td>0.244679</td>\n",
       "      <td>0.220947</td>\n",
       "      <td>0.246013</td>\n",
       "      <td>0.231171</td>\n",
       "      <td>0.230307</td>\n",
       "      <td>0.242182</td>\n",
       "      <td>0.231787</td>\n",
       "      <td>...</td>\n",
       "      <td>0.226018</td>\n",
       "      <td>0.208932</td>\n",
       "      <td>0.252255</td>\n",
       "      <td>0.213605</td>\n",
       "      <td>0.241162</td>\n",
       "      <td>0.232063</td>\n",
       "      <td>0.240651</td>\n",
       "      <td>0.218328</td>\n",
       "      <td>NaN</td>\n",
       "      <td>NaN</td>\n",
       "    </tr>\n",
       "    <tr>\n",
       "      <th>2</th>\n",
       "      <td>0.258305</td>\n",
       "      <td>0.245077</td>\n",
       "      <td>0.234763</td>\n",
       "      <td>0.248366</td>\n",
       "      <td>0.213277</td>\n",
       "      <td>0.219929</td>\n",
       "      <td>0.225142</td>\n",
       "      <td>0.219998</td>\n",
       "      <td>0.241513</td>\n",
       "      <td>0.225413</td>\n",
       "      <td>...</td>\n",
       "      <td>0.235699</td>\n",
       "      <td>0.249670</td>\n",
       "      <td>0.231843</td>\n",
       "      <td>0.242016</td>\n",
       "      <td>0.245789</td>\n",
       "      <td>0.243913</td>\n",
       "      <td>0.223692</td>\n",
       "      <td>0.230089</td>\n",
       "      <td>NaN</td>\n",
       "      <td>NaN</td>\n",
       "    </tr>\n",
       "    <tr>\n",
       "      <th>3</th>\n",
       "      <td>0.240020</td>\n",
       "      <td>0.231830</td>\n",
       "      <td>0.231338</td>\n",
       "      <td>0.207150</td>\n",
       "      <td>0.239114</td>\n",
       "      <td>0.242090</td>\n",
       "      <td>0.231634</td>\n",
       "      <td>0.239512</td>\n",
       "      <td>0.241558</td>\n",
       "      <td>0.249161</td>\n",
       "      <td>...</td>\n",
       "      <td>0.233690</td>\n",
       "      <td>0.249073</td>\n",
       "      <td>0.239164</td>\n",
       "      <td>0.256052</td>\n",
       "      <td>0.230149</td>\n",
       "      <td>0.232954</td>\n",
       "      <td>0.233925</td>\n",
       "      <td>0.235331</td>\n",
       "      <td>NaN</td>\n",
       "      <td>NaN</td>\n",
       "    </tr>\n",
       "    <tr>\n",
       "      <th>4</th>\n",
       "      <td>0.250104</td>\n",
       "      <td>0.225447</td>\n",
       "      <td>0.241950</td>\n",
       "      <td>0.230710</td>\n",
       "      <td>0.236610</td>\n",
       "      <td>0.234459</td>\n",
       "      <td>0.226154</td>\n",
       "      <td>0.241565</td>\n",
       "      <td>0.260103</td>\n",
       "      <td>0.232317</td>\n",
       "      <td>...</td>\n",
       "      <td>0.244299</td>\n",
       "      <td>0.225548</td>\n",
       "      <td>0.251118</td>\n",
       "      <td>0.264531</td>\n",
       "      <td>0.228027</td>\n",
       "      <td>0.231908</td>\n",
       "      <td>0.239162</td>\n",
       "      <td>0.247615</td>\n",
       "      <td>NaN</td>\n",
       "      <td>NaN</td>\n",
       "    </tr>\n",
       "  </tbody>\n",
       "</table>\n",
       "<p>5 rows × 362 columns</p>\n",
       "</div>"
      ],
      "text/plain": [
       "     laser0    laser1    laser2    laser3    laser4    laser5    laser6  \\\n",
       "0  0.227497  0.241333  0.221897  0.244679  0.220947  0.246013  0.231171   \n",
       "1  0.227497  0.241333  0.221897  0.244679  0.220947  0.246013  0.231171   \n",
       "2  0.258305  0.245077  0.234763  0.248366  0.213277  0.219929  0.225142   \n",
       "3  0.240020  0.231830  0.231338  0.207150  0.239114  0.242090  0.231634   \n",
       "4  0.250104  0.225447  0.241950  0.230710  0.236610  0.234459  0.226154   \n",
       "\n",
       "     laser7    laser8    laser9  ...  laser352  laser353  laser354  laser355  \\\n",
       "0  0.230307  0.242182  0.231787  ...  0.226018  0.208932  0.252255  0.213605   \n",
       "1  0.230307  0.242182  0.231787  ...  0.226018  0.208932  0.252255  0.213605   \n",
       "2  0.219998  0.241513  0.225413  ...  0.235699  0.249670  0.231843  0.242016   \n",
       "3  0.239512  0.241558  0.249161  ...  0.233690  0.249073  0.239164  0.256052   \n",
       "4  0.241565  0.260103  0.232317  ...  0.244299  0.225548  0.251118  0.264531   \n",
       "\n",
       "   laser356  laser357  laser358  laser359  speed  steering_angle  \n",
       "0  0.241162  0.232063  0.240651  0.218328    NaN             NaN  \n",
       "1  0.241162  0.232063  0.240651  0.218328    NaN             NaN  \n",
       "2  0.245789  0.243913  0.223692  0.230089    NaN             NaN  \n",
       "3  0.230149  0.232954  0.233925  0.235331    NaN             NaN  \n",
       "4  0.228027  0.231908  0.239162  0.247615    NaN             NaN  \n",
       "\n",
       "[5 rows x 362 columns]"
      ]
     },
     "execution_count": 3,
     "metadata": {},
     "output_type": "execute_result"
    }
   ],
   "source": [
    "raw_data.head()"
   ]
  },
  {
   "cell_type": "code",
   "execution_count": 5,
   "metadata": {},
   "outputs": [
    {
     "data": {
      "text/plain": [
       "array([nan, nan, nan, nan, nan])"
      ]
     },
     "execution_count": 5,
     "metadata": {},
     "output_type": "execute_result"
    }
   ],
   "source": [
    "#speed = raw_data[\"speed\"].values\n",
    "steering_angle = raw_data[\"steering_angle\"].values\n",
    "\n",
    "output = steering_angle\n",
    "\n",
    "output[:5]"
   ]
  },
  {
   "cell_type": "code",
   "execution_count": 6,
   "metadata": {},
   "outputs": [],
   "source": [
    "h = 240\n",
    "w = 320\n",
    "c = 1\n",
    "img_num = len(raw_data) + 1  # Because csv lenght start with 0\n",
    "\n",
    "img_input = []\n",
    "\n",
    "for i in range(1, img_num):\n",
    "    img = cv2.imread(home_dir + \"/Desktop/DataPacket/Images/\"+str(i)+\".jpg\", 0)\n",
    "    img = cv2.resize(img, (w, h))\n",
    "    \n",
    "    img_input.append(img)"
   ]
  },
  {
   "cell_type": "code",
   "execution_count": 7,
   "metadata": {},
   "outputs": [],
   "source": [
    "img_input = np.asarray(img_input).astype(np.float32) / 255.0"
   ]
  },
  {
   "cell_type": "code",
   "execution_count": 8,
   "metadata": {},
   "outputs": [],
   "source": [
    "from sklearn.model_selection import train_test_split\n",
    "\n",
    "X_train, X_validation, y_train, y_validation = train_test_split(img_input, output, test_size=0.2, random_state=22)\n",
    "\n",
    "del img_input\n",
    "del steering_angle\n",
    "del output"
   ]
  },
  {
   "cell_type": "code",
   "execution_count": 9,
   "metadata": {},
   "outputs": [
    {
     "name": "stderr",
     "output_type": "stream",
     "text": [
      "Using TensorFlow backend.\n"
     ]
    }
   ],
   "source": [
    "from keras.models import Sequential\n",
    "from keras.layers import Dense, Conv2D, Flatten, MaxPool2D, Dropout\n",
    "from keras.layers import Conv2D, MaxPooling2D, Cropping2D, Lambda\n",
    "from keras.callbacks import ModelCheckpoint\n",
    "from keras.optimizers import SGD, Adam\n",
    "from keras.models import Sequential\n",
    "from keras.layers.core import Activation"
   ]
  },
  {
   "cell_type": "code",
   "execution_count": 10,
   "metadata": {},
   "outputs": [
    {
     "data": {
      "text/plain": [
       "(15, 240, 320, 1)"
      ]
     },
     "execution_count": 10,
     "metadata": {},
     "output_type": "execute_result"
    }
   ],
   "source": [
    "if len(X_train.shape) < 4:  # We do this because when image is grey cv2 not add channel num to shape but keras want to see 1 as channel\n",
    "    X_train.resize(X_train.shape[0], X_train.shape[1], X_train.shape[2], 1)\n",
    "    X_validation.resize(X_validation.shape[0], X_validation.shape[1], X_validation.shape[2], 1)\n",
    "    \n",
    "X_train.shape"
   ]
  },
  {
   "cell_type": "code",
   "execution_count": 12,
   "metadata": {},
   "outputs": [],
   "source": [
    "model = Sequential()\n",
    "\n",
    "model.add(Conv2D(filters = 2, kernel_size = (3,3),padding = 'same',activation ='relu', input_shape = (h, w, c)))\n",
    "model.add(Conv2D(filters = 4, kernel_size = (3,3),padding = 'same',activation ='relu'))\n",
    "model.add(Conv2D(filters = 8, kernel_size = (5,5),padding = 'same',activation ='relu'))\n",
    "model.add(MaxPool2D(pool_size=(2,2)))\n",
    "model.add(Conv2D(filters = 16, kernel_size = (5,5),padding = 'same',activation ='relu'))\n",
    "model.add(MaxPool2D(pool_size=(2,2)))\n",
    "model.add(Conv2D(filters = 24, kernel_size = (7,7),padding = 'same',activation ='relu'))\n",
    "\n",
    "model.add(Flatten())\n",
    "\n",
    "'''model.add(Dense(50, activation='relu'))\n",
    "model.add(Dense(28, activation='relu'))\n",
    "model.add(Dense(10, activation='relu'))'''\n",
    "\n",
    "model.add(Dense(1, activation = \"sigmoid\"))\n",
    "\n",
    "model.compile(loss='mse', optimizer='sgd', metrics=['accuracy'])"
   ]
  },
  {
   "cell_type": "code",
   "execution_count": 13,
   "metadata": {},
   "outputs": [
    {
     "name": "stdout",
     "output_type": "stream",
     "text": [
      "WARNING:tensorflow:From /home/ubunturos/.local/lib/python3.6/site-packages/tensorflow/python/ops/math_ops.py:3066: to_int32 (from tensorflow.python.ops.math_ops) is deprecated and will be removed in a future version.\n",
      "Instructions for updating:\n",
      "Use tf.cast instead.\n",
      "Train on 15 samples, validate on 4 samples\n",
      "Epoch 1/7\n",
      "15/15 [==============================] - 4s 257ms/step - loss: nan - acc: 0.0000e+00 - val_loss: nan - val_acc: 0.0000e+00\n",
      "Epoch 2/7\n",
      "15/15 [==============================] - 2s 160ms/step - loss: nan - acc: 0.0000e+00 - val_loss: nan - val_acc: 0.0000e+00\n",
      "Epoch 3/7\n",
      "15/15 [==============================] - 3s 169ms/step - loss: nan - acc: 0.0000e+00 - val_loss: nan - val_acc: 0.0000e+00\n",
      "Epoch 4/7\n",
      "15/15 [==============================] - 2s 147ms/step - loss: nan - acc: 0.0000e+00 - val_loss: nan - val_acc: 0.0000e+00\n",
      "Epoch 5/7\n",
      "15/15 [==============================] - 2s 148ms/step - loss: nan - acc: 0.0000e+00 - val_loss: nan - val_acc: 0.0000e+00\n",
      "Epoch 6/7\n",
      "15/15 [==============================] - 2s 164ms/step - loss: nan - acc: 0.0000e+00 - val_loss: nan - val_acc: 0.0000e+00\n",
      "Epoch 7/7\n",
      "15/15 [==============================] - 2s 165ms/step - loss: nan - acc: 0.0000e+00 - val_loss: nan - val_acc: 0.0000e+00\n"
     ]
    }
   ],
   "source": [
    "hs = model.fit(X_train, y_train, validation_data=(X_validation, y_validation), batch_size=64, epochs=7)"
   ]
  },
  {
   "cell_type": "code",
   "execution_count": 14,
   "metadata": {},
   "outputs": [
    {
     "data": {
      "text/html": [
       "        <script type=\"text/javascript\">\n",
       "        window.PlotlyConfig = {MathJaxConfig: 'local'};\n",
       "        if (window.MathJax) {MathJax.Hub.Config({SVG: {font: \"STIX-Web\"}});}\n",
       "        if (typeof require !== 'undefined') {\n",
       "        require.undef(\"plotly\");\n",
       "        requirejs.config({\n",
       "            paths: {\n",
       "                'plotly': ['https://cdn.plot.ly/plotly-latest.min']\n",
       "            }\n",
       "        });\n",
       "        require(['plotly'], function(Plotly) {\n",
       "            window._Plotly = Plotly;\n",
       "        });\n",
       "        }\n",
       "        </script>\n",
       "        "
      ]
     },
     "metadata": {},
     "output_type": "display_data"
    },
    {
     "data": {
      "application/vnd.plotly.v1+json": {
       "config": {
        "linkText": "Export to plot.ly",
        "plotlyServerURL": "https://plot.ly",
        "showLink": false
       },
       "data": [
        {
         "line": {
          "color": "aquamarine"
         },
         "mode": "lines",
         "name": "loss",
         "type": "scatter",
         "uid": "adde94ba-e64b-45df-9647-6c42486d08f0",
         "x": [
          0,
          1,
          2,
          3,
          4,
          5,
          6
         ],
         "y": [
          null,
          null,
          null,
          null,
          null,
          null,
          null
         ]
        },
        {
         "line": {
          "color": "darkred",
          "dash": "dash"
         },
         "mode": "lines",
         "name": "val_loss",
         "type": "scatter",
         "uid": "a3470fe1-1c5f-46db-bdac-722b76439ab2",
         "x": [
          0,
          1,
          2,
          3,
          4,
          5,
          6
         ],
         "y": [
          null,
          null,
          null,
          null,
          null,
          null,
          null
         ]
        },
        {
         "line": {
          "color": "violet"
         },
         "mode": "lines",
         "name": "acc",
         "type": "scatter",
         "uid": "33c8bc45-f282-43b1-abd8-c37b233d57e3",
         "x": [
          0,
          1,
          2,
          3,
          4,
          5,
          6
         ],
         "y": [
          0,
          0,
          0,
          0,
          0,
          0,
          0
         ]
        },
        {
         "line": {
          "color": "aqua",
          "dash": "dash"
         },
         "mode": "lines",
         "name": "val_acc",
         "type": "scatter",
         "uid": "50c4b3db-1a43-498f-8746-eb0aea076f80",
         "x": [
          0,
          1,
          2,
          3,
          4,
          5,
          6
         ],
         "y": [
          0,
          0,
          0,
          0,
          0,
          0,
          0
         ]
        }
       ],
       "layout": {
        "title": {
         "text": "Trained Model1 training and validation values"
        },
        "updatemenus": [
         {
          "active": -1,
          "buttons": [
           {
            "args": [
             {
              "visible": [
               false,
               false,
               true,
               true
              ]
             },
             {
              "title": "Trained Model1 training and validation accuracy"
             }
            ],
            "label": "Acc Graph",
            "method": "update"
           },
           {
            "args": [
             {
              "visible": [
               true,
               true,
               false,
               false
              ]
             },
             {
              "title": "Trained Model1 training and validation loss"
             }
            ],
            "label": "Loss Graph",
            "method": "update"
           },
           {
            "args": [
             {
              "visible": [
               true,
               true,
               true,
               true
              ]
             },
             {
              "title": "Trained Model1 training and validation values"
             }
            ],
            "label": "Both",
            "method": "update"
           }
          ],
          "type": "buttons"
         }
        ],
        "xaxis": {
         "title": {
          "text": "Epochs"
         }
        }
       }
      },
      "text/html": [
       "<div>\n",
       "        \n",
       "        \n",
       "            <div id=\"d3b07189-edba-41a5-9839-7b6641ce551d\" class=\"plotly-graph-div\" style=\"height:525px; width:100%;\"></div>\n",
       "            <script type=\"text/javascript\">\n",
       "                require([\"plotly\"], function(Plotly) {\n",
       "                    window.PLOTLYENV=window.PLOTLYENV || {};\n",
       "                    window.PLOTLYENV.BASE_URL='https://plot.ly';\n",
       "                    \n",
       "                if (document.getElementById(\"d3b07189-edba-41a5-9839-7b6641ce551d\")) {\n",
       "                    Plotly.newPlot(\n",
       "                        'd3b07189-edba-41a5-9839-7b6641ce551d',\n",
       "                        [{\"line\": {\"color\": \"aquamarine\"}, \"mode\": \"lines\", \"name\": \"loss\", \"type\": \"scatter\", \"uid\": \"adde94ba-e64b-45df-9647-6c42486d08f0\", \"x\": [0, 1, 2, 3, 4, 5, 6], \"y\": [null, null, null, null, null, null, null]}, {\"line\": {\"color\": \"darkred\", \"dash\": \"dash\"}, \"mode\": \"lines\", \"name\": \"val_loss\", \"type\": \"scatter\", \"uid\": \"a3470fe1-1c5f-46db-bdac-722b76439ab2\", \"x\": [0, 1, 2, 3, 4, 5, 6], \"y\": [null, null, null, null, null, null, null]}, {\"line\": {\"color\": \"violet\"}, \"mode\": \"lines\", \"name\": \"acc\", \"type\": \"scatter\", \"uid\": \"33c8bc45-f282-43b1-abd8-c37b233d57e3\", \"x\": [0, 1, 2, 3, 4, 5, 6], \"y\": [0.0, 0.0, 0.0, 0.0, 0.0, 0.0, 0.0]}, {\"line\": {\"color\": \"aqua\", \"dash\": \"dash\"}, \"mode\": \"lines\", \"name\": \"val_acc\", \"type\": \"scatter\", \"uid\": \"50c4b3db-1a43-498f-8746-eb0aea076f80\", \"x\": [0, 1, 2, 3, 4, 5, 6], \"y\": [0.0, 0.0, 0.0, 0.0, 0.0, 0.0, 0.0]}],\n",
       "                        {\"title\": {\"text\": \"Trained Model1 training and validation values\"}, \"updatemenus\": [{\"active\": -1, \"buttons\": [{\"args\": [{\"visible\": [false, false, true, true]}, {\"title\": \"Trained Model1 training and validation accuracy\"}], \"label\": \"Acc Graph\", \"method\": \"update\"}, {\"args\": [{\"visible\": [true, true, false, false]}, {\"title\": \"Trained Model1 training and validation loss\"}], \"label\": \"Loss Graph\", \"method\": \"update\"}, {\"args\": [{\"visible\": [true, true, true, true]}, {\"title\": \"Trained Model1 training and validation values\"}], \"label\": \"Both\", \"method\": \"update\"}], \"type\": \"buttons\"}], \"xaxis\": {\"title\": {\"text\": \"Epochs\"}}},\n",
       "                        {\"showLink\": false, \"linkText\": \"Export to plot.ly\", \"plotlyServerURL\": \"https://plot.ly\", \"responsive\": true}\n",
       "                    ).then(function(){\n",
       "                            \n",
       "var gd = document.getElementById('d3b07189-edba-41a5-9839-7b6641ce551d');\n",
       "var x = new MutationObserver(function (mutations, observer) {{\n",
       "        var display = window.getComputedStyle(gd).display;\n",
       "        if (!display || display === 'none') {{\n",
       "            console.log([gd, 'removed!']);\n",
       "            Plotly.purge(gd);\n",
       "            observer.disconnect();\n",
       "        }}\n",
       "}});\n",
       "\n",
       "// Listen for the removal of the full notebook cells\n",
       "var notebookContainer = gd.closest('#notebook-container');\n",
       "if (notebookContainer) {{\n",
       "    x.observe(notebookContainer, {childList: true});\n",
       "}}\n",
       "\n",
       "// Listen for the clearing of the current output cell\n",
       "var outputEl = gd.closest('.output');\n",
       "if (outputEl) {{\n",
       "    x.observe(outputEl, {childList: true});\n",
       "}}\n",
       "\n",
       "                        })\n",
       "                };\n",
       "                });\n",
       "            </script>\n",
       "        </div>"
      ]
     },
     "metadata": {},
     "output_type": "display_data"
    }
   ],
   "source": [
    "import plotly\n",
    "from plotly.offline import iplot\n",
    "plotly.offline.init_notebook_mode(connected=True)\n",
    "import plotly.graph_objs as go\n",
    "\n",
    "def trainingResultsGraph(model, modelCode):\n",
    "    trace0 = go.Scatter(\n",
    "        x = model.epoch,\n",
    "        y = model.history['loss'],\n",
    "        mode = 'lines',\n",
    "        name = 'loss',\n",
    "        line=dict(color='aquamarine')\n",
    "    )\n",
    "\n",
    "    trace1 = go.Scatter(\n",
    "        x = model.epoch,\n",
    "        y = model.history['val_loss'],\n",
    "        mode = 'lines',\n",
    "        name = 'val_loss',\n",
    "        line=dict(color='darkred', dash='dash')\n",
    "    )\n",
    "\n",
    "    trace2 = go.Scatter(\n",
    "        x = model.epoch,\n",
    "        y = model.history['acc'],\n",
    "        mode = 'lines',\n",
    "        name = 'acc',\n",
    "        line=dict(color='violet')\n",
    "    )\n",
    "\n",
    "    trace3 = go.Scatter(\n",
    "        x = model.epoch,\n",
    "        y = model.history['val_acc'],\n",
    "        mode = 'lines',\n",
    "        name = 'val_acc',\n",
    "        line=dict(color='aqua', dash='dash')\n",
    "    )\n",
    "\n",
    "    updatemenus = list([\n",
    "        dict(type=\"buttons\",\n",
    "             active=-1,\n",
    "             buttons=list([\n",
    "                dict(label = 'Acc Graph',\n",
    "                     method = 'update',\n",
    "                     args = [{'visible': [False, False, True, True]},\n",
    "                             {'title': 'Trained Model'+modelCode+' training and validation accuracy'}]),\n",
    "                dict(label = 'Loss Graph',\n",
    "                     method = 'update',\n",
    "                     args = [{'visible': [True, True, False, False]},\n",
    "                             {'title': 'Trained Model'+modelCode+' training and validation loss'}]),\n",
    "                dict(label = 'Both',\n",
    "                     method = 'update',\n",
    "                     args = [{'visible': [True, True, True, True]},\n",
    "                             {'title': 'Trained Model'+modelCode+' training and validation values'}])\n",
    "            ]),\n",
    "        )\n",
    "    ])\n",
    "\n",
    "    data = [trace0, trace1, trace2, trace3]\n",
    "    layout = dict(title='Trained Model'+modelCode+' training and validation values',\n",
    "                  xaxis = dict(title = 'Epochs'),\n",
    "                  updatemenus=updatemenus)\n",
    "\n",
    "    fig = dict(data=data, layout=layout)\n",
    "\n",
    "    iplot(fig, filename='lossGraph')\n",
    "    \n",
    "trainingResultsGraph(hs, \"1\")"
   ]
  },
  {
   "cell_type": "code",
   "execution_count": 15,
   "metadata": {},
   "outputs": [
    {
     "name": "stdout",
     "output_type": "stream",
     "text": [
      "Model saved to Desktop/model dir!!!\n",
      "Please move them to deeplearning package model directory to angelshark_deeplearning/model\n"
     ]
    }
   ],
   "source": [
    "try:\n",
    "    __import__(\"rospkg\")\n",
    "    __import__(\"rospy\")\n",
    "\n",
    "    rospack = rospkg.RosPack()\n",
    "    package_path = rospack.get_path('angelshark_deeplearning')\n",
    "    \n",
    "except ImportError:\n",
    "    package_path = home_dir + \"/Desktop\"\n",
    "    \n",
    "    import os\n",
    "    if not os.path.exists(package_path + \"/model\"):\n",
    "        os.makedirs(package_path + \"/model\")\n",
    "    \n",
    "    print(\"Model saved to Desktop/model dir!!!\")\n",
    "    print(\"Please move them to deeplearning package model directory to angelshark_deeplearning/model\")"
   ]
  },
  {
   "cell_type": "code",
   "execution_count": null,
   "metadata": {},
   "outputs": [],
   "source": [
    "import json\n",
    "import matplotlib.pylab as plt\n",
    "import random\n",
    "from keras.callbacks import ModelCheckpoint\n",
    "\n",
    "model_checkpoint = ModelCheckpoint('weights.h5', monitor='val_loss', save_best_only=True)\n",
    "\n",
    "# Save model weights and json.\n",
    "model.save_weights(package_path + '/model/model.h5')\n",
    "model_json = model.to_json()\n",
    "with open(package_path + '/model/model.json', 'w') as outfile:\n",
    "    json.dump(model_json, outfile)\n",
    "\n",
    "# Train and validation loss chart\n",
    "print(hs.history.keys())\n",
    "\n",
    "plt.plot(hs.history['loss'])\n",
    "plt.plot(hs.history['val_loss'])\n",
    "plt.title('model mean squared error loss')\n",
    "plt.ylabel('mean squared error loss')\n",
    "plt.xlabel('epoch')\n",
    "plt.legend(['training set', 'validation set'], loc='upper right')\n",
    "plt.show()"
   ]
  }
 ],
 "metadata": {
  "kernelspec": {
   "display_name": "Python 3",
   "language": "python",
   "name": "python3"
  },
  "language_info": {
   "codemirror_mode": {
    "name": "ipython",
    "version": 3
   },
   "file_extension": ".py",
   "mimetype": "text/x-python",
   "name": "python",
   "nbconvert_exporter": "python",
   "pygments_lexer": "ipython3",
   "version": "3.6.7"
  }
 },
 "nbformat": 4,
 "nbformat_minor": 2
}
